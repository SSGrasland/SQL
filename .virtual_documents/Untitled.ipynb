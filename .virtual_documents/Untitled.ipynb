%load_ext sql


conda install -c conda-forge ipython-sql



